{
  "nbformat": 4,
  "nbformat_minor": 0,
  "metadata": {
    "colab": {
      "name": "Practice.ipynb",
      "provenance": [],
      "authorship_tag": "ABX9TyNnd2iuLPDmI2fqL9sGd0hf",
      "include_colab_link": true
    },
    "kernelspec": {
      "name": "python3",
      "display_name": "Python 3"
    }
  },
  "cells": [
    {
      "cell_type": "markdown",
      "metadata": {
        "id": "view-in-github",
        "colab_type": "text"
      },
      "source": [
        "<a href=\"https://colab.research.google.com/github/manideep-malyala/Data-Structures-C-Sample-Pro/blob/main/Practice.ipynb\" target=\"_parent\"><img src=\"https://colab.research.google.com/assets/colab-badge.svg\" alt=\"Open In Colab\"/></a>"
      ]
    },
    {
      "cell_type": "code",
      "metadata": {
        "colab": {
          "base_uri": "https://localhost:8080/"
        },
        "id": "0mlZz2ujkqHW",
        "outputId": "1a860385-f27f-4a23-fb9d-88c2d4a0e54c"
      },
      "source": [
        "print(\"hello manny\")"
      ],
      "execution_count": null,
      "outputs": [
        {
          "output_type": "stream",
          "text": [
            "hello manny\n"
          ],
          "name": "stdout"
        }
      ]
    },
    {
      "cell_type": "code",
      "metadata": {
        "id": "juya1YOYk6jl"
      },
      "source": [
        "a = 10\r\n",
        "b = 35\r\n",
        "c = a + b\r\n",
        "print(c)"
      ],
      "execution_count": null,
      "outputs": []
    },
    {
      "cell_type": "markdown",
      "metadata": {
        "id": "kG7vTQe1zqmQ"
      },
      "source": [
        "<s><b> hello </b></s>\r\n",
        "\r\n"
      ]
    },
    {
      "cell_type": "code",
      "metadata": {
        "id": "pTBucyhTz9W9"
      },
      "source": [
        ""
      ],
      "execution_count": null,
      "outputs": []
    },
    {
      "cell_type": "markdown",
      "metadata": {
        "id": "9T2w0HKQ3b5y"
      },
      "source": [
        "Python is a general purpose high level programming langauge.\r\n",
        "Guido Van Rossoum developed Python in the year 1989 in his research at NIR Netherlands\r\n",
        "\r\n",
        "but officially available to public in the year 1991\r\n",
        "\r\n",
        "python is a dynamically type programming language\r\n",
        "\r\n"
      ]
    },
    {
      "cell_type": "code",
      "metadata": {
        "colab": {
          "base_uri": "https://localhost:8080/",
          "height": 0
        },
        "id": "x7CYLLfwBtMn",
        "outputId": "db0a2866-de4d-4f35-e454-3cd768f45d72"
      },
      "source": [
        "#shared reference concept in python\r\n",
        "a = 1\r\n",
        "b = a\r\n",
        "print(a)\r\n",
        "print(b)"
      ],
      "execution_count": 5,
      "outputs": [
        {
          "output_type": "stream",
          "text": [
            "1\n",
            "1\n"
          ],
          "name": "stdout"
        }
      ]
    },
    {
      "cell_type": "code",
      "metadata": {
        "colab": {
          "base_uri": "https://localhost:8080/",
          "height": 0
        },
        "id": "1sjgr4YC9_XN",
        "outputId": "a310c2ea-66ef-42d5-8e84-584690f904e2"
      },
      "source": [
        "a = 10\r\n",
        "print(a)"
      ],
      "execution_count": 1,
      "outputs": [
        {
          "output_type": "stream",
          "text": [
            "10\n"
          ],
          "name": "stdout"
        }
      ]
    },
    {
      "cell_type": "code",
      "metadata": {
        "colab": {
          "base_uri": "https://localhost:8080/",
          "height": 0
        },
        "id": "v0VuH_MB-t56",
        "outputId": "be41d640-8695-4f8c-ca1a-0fada3a267e7"
      },
      "source": [
        "a = 10\r\n",
        "type(a)\r\n",
        "a = True\r\n",
        "print(type(a))"
      ],
      "execution_count": 4,
      "outputs": [
        {
          "output_type": "stream",
          "text": [
            "<class 'bool'>\n"
          ],
          "name": "stdout"
        }
      ]
    }
  ]
}